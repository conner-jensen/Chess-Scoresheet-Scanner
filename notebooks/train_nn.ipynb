{
 "cells": [
  {
   "cell_type": "code",
   "execution_count": 61,
   "metadata": {
    "_cell_guid": "b1076dfc-b9ad-4769-8c92-a6c4dae69d19",
    "_uuid": "8f2839f25d086af736a60e9eeb907d3b93b6e0e5",
    "execution": {
     "iopub.execute_input": "2025-01-12T02:55:53.826447Z",
     "iopub.status.busy": "2025-01-12T02:55:53.826060Z",
     "iopub.status.idle": "2025-01-12T02:55:53.830527Z",
     "shell.execute_reply": "2025-01-12T02:55:53.829733Z",
     "shell.execute_reply.started": "2025-01-12T02:55:53.826419Z"
    },
    "trusted": true
   },
   "outputs": [],
   "source": [
    "# Training can be replicated on Kaggle or here if the datasets are downloaded\n",
    "import numpy as np\n",
    "import pandas as pd\n",
    "import os\n",
    "import matplotlib.pyplot as plt\n",
    "\n",
    "import tensorflow as tf\n",
    "from sklearn.model_selection import train_test_split"
   ]
  },
  {
   "cell_type": "code",
   "execution_count": 62,
   "metadata": {
    "execution": {
     "iopub.execute_input": "2025-01-12T02:55:53.833431Z",
     "iopub.status.busy": "2025-01-12T02:55:53.833204Z",
     "iopub.status.idle": "2025-01-12T02:55:59.587495Z",
     "shell.execute_reply": "2025-01-12T02:55:59.586471Z",
     "shell.execute_reply.started": "2025-01-12T02:55:53.833411Z"
    },
    "trusted": true
   },
   "outputs": [],
   "source": [
    "# Data is from Kaggle's EMNIST dataset: https://www.kaggle.com/datasets/crawford/emnist/data\n",
    "train=pd.read_csv('/kaggle/input/emnist/emnist-balanced-train.csv')\n",
    "test=pd.read_csv('/kaggle/input/emnist/emnist-balanced-test.csv')"
   ]
  },
  {
   "cell_type": "code",
   "execution_count": 63,
   "metadata": {
    "execution": {
     "iopub.execute_input": "2025-01-12T02:55:59.588928Z",
     "iopub.status.busy": "2025-01-12T02:55:59.588612Z",
     "iopub.status.idle": "2025-01-12T02:55:59.595756Z",
     "shell.execute_reply": "2025-01-12T02:55:59.595004Z",
     "shell.execute_reply.started": "2025-01-12T02:55:59.588903Z"
    },
    "trusted": true
   },
   "outputs": [],
   "source": [
    "x_train = train.iloc[:,1:].to_numpy()\n",
    "y_train = train.iloc[:,0].to_numpy()\n",
    "\n",
    "x_test = test.iloc[:,1:].to_numpy()\n",
    "y_test = test.iloc[:,0].to_numpy()"
   ]
  },
  {
   "cell_type": "code",
   "execution_count": 64,
   "metadata": {
    "execution": {
     "iopub.execute_input": "2025-01-12T02:55:59.597346Z",
     "iopub.status.busy": "2025-01-12T02:55:59.597093Z",
     "iopub.status.idle": "2025-01-12T02:55:59.616736Z",
     "shell.execute_reply": "2025-01-12T02:55:59.615869Z",
     "shell.execute_reply.started": "2025-01-12T02:55:59.597326Z"
    },
    "trusted": true
   },
   "outputs": [
    {
     "data": {
      "text/plain": [
       "{0: '0',\n",
       " 1: '1',\n",
       " 2: '2',\n",
       " 3: '3',\n",
       " 4: '4',\n",
       " 5: '5',\n",
       " 6: '6',\n",
       " 7: '7',\n",
       " 8: '8',\n",
       " 9: '9',\n",
       " 10: 'A',\n",
       " 11: 'B',\n",
       " 12: 'C',\n",
       " 13: 'D',\n",
       " 14: 'E',\n",
       " 15: 'F',\n",
       " 16: 'G',\n",
       " 17: 'H',\n",
       " 18: 'I',\n",
       " 19: 'J',\n",
       " 20: 'K',\n",
       " 21: 'L',\n",
       " 22: 'M',\n",
       " 23: 'N',\n",
       " 24: 'O',\n",
       " 25: 'P',\n",
       " 26: 'Q',\n",
       " 27: 'R',\n",
       " 28: 'S',\n",
       " 29: 'T',\n",
       " 30: 'U',\n",
       " 31: 'V',\n",
       " 32: 'W',\n",
       " 33: 'X',\n",
       " 34: 'Y',\n",
       " 35: 'Z',\n",
       " 36: 'a',\n",
       " 37: 'b',\n",
       " 38: 'd',\n",
       " 39: 'e',\n",
       " 40: 'f',\n",
       " 41: 'g',\n",
       " 42: 'h',\n",
       " 43: 'n',\n",
       " 44: 'q',\n",
       " 45: 'r',\n",
       " 46: 't'}"
      ]
     },
     "execution_count": 64,
     "metadata": {},
     "output_type": "execute_result"
    }
   ],
   "source": [
    "labels = pd.read_csv(\"/kaggle/input/emnist/emnist-balanced-mapping.txt\", delimiter = ' ', \\\n",
    "                   index_col=0, header=None).to_numpy().reshape(1, -1)[0] # list of labels\n",
    "label_map = {i:chr(label) for i, label in enumerate(labels)}\n",
    "label_map"
   ]
  },
  {
   "cell_type": "code",
   "execution_count": 65,
   "metadata": {
    "execution": {
     "iopub.execute_input": "2025-01-12T02:55:59.618260Z",
     "iopub.status.busy": "2025-01-12T02:55:59.618025Z",
     "iopub.status.idle": "2025-01-12T02:55:59.772042Z",
     "shell.execute_reply": "2025-01-12T02:55:59.771093Z",
     "shell.execute_reply.started": "2025-01-12T02:55:59.618240Z"
    },
    "trusted": true
   },
   "outputs": [
    {
     "name": "stdout",
     "output_type": "stream",
     "text": [
      "e\n"
     ]
    },
    {
     "data": {
      "image/png": "[encoded data removed]",
      "text/plain": [
       "<Figure size 640x480 with 1 Axes>"
      ]
     },
     "metadata": {},
     "output_type": "display_data"
    }
   ],
   "source": [
    "# images are flipped and rotated 90° (instead of fixing it here, I just transform images at inference time)\n",
    "plt.imshow(x_test[0].reshape([28,28]))\n",
    "print(label_map[y_test[0]])"
   ]
  },
  {
   "cell_type": "code",
   "execution_count": 66,
   "metadata": {
    "execution": {
     "iopub.execute_input": "2025-01-12T02:55:59.773324Z",
     "iopub.status.busy": "2025-01-12T02:55:59.772935Z",
     "iopub.status.idle": "2025-01-12T02:56:00.077860Z",
     "shell.execute_reply": "2025-01-12T02:56:00.077139Z",
     "shell.execute_reply.started": "2025-01-12T02:55:59.773286Z"
    },
    "trusted": true
   },
   "outputs": [],
   "source": [
    "x_train = x_train / 255\n",
    "x_test = x_test / 255"
   ]
  },
  {
   "cell_type": "code",
   "execution_count": 67,
   "metadata": {
    "execution": {
     "iopub.execute_input": "2025-01-12T02:56:00.079187Z",
     "iopub.status.busy": "2025-01-12T02:56:00.078829Z",
     "iopub.status.idle": "2025-01-12T02:56:00.083251Z",
     "shell.execute_reply": "2025-01-12T02:56:00.082373Z",
     "shell.execute_reply.started": "2025-01-12T02:56:00.079151Z"
    },
    "trusted": true
   },
   "outputs": [],
   "source": [
    "x_train = x_train.reshape([-1, 28, 28, 1])\n",
    "x_test = x_test.reshape([-1, 28, 28, 1])"
   ]
  },
  {
   "cell_type": "code",
   "execution_count": 68,
   "metadata": {
    "execution": {
     "iopub.execute_input": "2025-01-12T02:56:00.084404Z",
     "iopub.status.busy": "2025-01-12T02:56:00.084095Z",
     "iopub.status.idle": "2025-01-12T02:56:00.099928Z",
     "shell.execute_reply": "2025-01-12T02:56:00.099178Z",
     "shell.execute_reply.started": "2025-01-12T02:56:00.084369Z"
    },
    "trusted": true
   },
   "outputs": [
    {
     "data": {
      "text/plain": [
       "47"
      ]
     },
     "execution_count": 68,
     "metadata": {},
     "output_type": "execute_result"
    }
   ],
   "source": [
    "len(labels)"
   ]
  },
  {
   "cell_type": "code",
   "execution_count": 69,
   "metadata": {
    "execution": {
     "iopub.execute_input": "2025-01-12T02:56:00.102589Z",
     "iopub.status.busy": "2025-01-12T02:56:00.102322Z",
     "iopub.status.idle": "2025-01-12T02:56:00.122719Z",
     "shell.execute_reply": "2025-01-12T02:56:00.122088Z",
     "shell.execute_reply.started": "2025-01-12T02:56:00.102567Z"
    },
    "trusted": true
   },
   "outputs": [],
   "source": [
    "y_train = tf.keras.utils.to_categorical(y_train, 47)\n",
    "y_test = tf.keras.utils.to_categorical(y_test, 47)"
   ]
  },
  {
   "cell_type": "code",
   "execution_count": 70,
   "metadata": {
    "execution": {
     "iopub.execute_input": "2025-01-12T02:56:00.124042Z",
     "iopub.status.busy": "2025-01-12T02:56:00.123761Z",
     "iopub.status.idle": "2025-01-12T02:56:01.232386Z",
     "shell.execute_reply": "2025-01-12T02:56:01.231689Z",
     "shell.execute_reply.started": "2025-01-12T02:56:00.124013Z"
    },
    "trusted": true
   },
   "outputs": [],
   "source": [
    "x_train, x_val, y_train, y_val = train_test_split(x_train, y_train, test_size=0.1, random_state=1)"
   ]
  },
  {
   "cell_type": "code",
   "execution_count": 90,
   "metadata": {
    "execution": {
     "iopub.execute_input": "2025-01-12T03:03:36.437520Z",
     "iopub.status.busy": "2025-01-12T03:03:36.437170Z",
     "iopub.status.idle": "2025-01-12T03:03:36.498986Z",
     "shell.execute_reply": "2025-01-12T03:03:36.498093Z",
     "shell.execute_reply.started": "2025-01-12T03:03:36.437494Z"
    },
    "trusted": true
   },
   "outputs": [],
   "source": [
    "# model = tf.keras.Sequential([\n",
    "#     tf.keras.Input((28, 28, 1)),\n",
    "    \n",
    "#     tf.keras.layers.Conv2D(32,5),\n",
    "#     tf.keras.layers.Conv2D(32,5),\n",
    "#     tf.keras.layers.MaxPooling2D(2,2),\n",
    "#     # tf.keras.layers.Dropout(0.25),\n",
    "\n",
    "#     tf.keras.layers.Conv2D(64,3),\n",
    "#     tf.keras.layers.Conv2D(364,3),\n",
    "#     tf.keras.layers.MaxPooling2D(2,2),\n",
    "#     # tf.keras.layers.Dropout(0.25),\n",
    "    \n",
    "#     tf.keras.layers.Flatten(),\n",
    "#     tf.keras.layers.Dense(512,activation='relu'),\n",
    "#     tf.keras.layers.Dense(128,activation='relu'),\n",
    "#     # tf.keras.layers.Dropout(0.5),\n",
    "#     tf.keras.layers.Dense(47,activation='softmax')\n",
    "# ])\n",
    "\n",
    "model = tf.keras.Sequential([ \n",
    "    tf.keras.Input((28, 28, 1)),\n",
    "    tf.keras.layers.Conv2D(32,3),\n",
    "    tf.keras.layers.MaxPooling2D(2,2, padding='same'),\n",
    "    tf.keras.layers.Dropout(0.30),\n",
    "    \n",
    "    tf.keras.layers.Conv2D(32,3),\n",
    "    tf.keras.layers.MaxPooling2D(2,2, padding='same'),\n",
    "    tf.keras.layers.Dropout(0.30),\n",
    "    \n",
    "    tf.keras.layers.Flatten(),\n",
    "    tf.keras.layers.Dense(1024,activation='relu'),\n",
    "    tf.keras.layers.Dropout(0.30),\n",
    "    tf.keras.layers.Dense(512,activation='relu'),\n",
    "    tf.keras.layers.Dropout(0.30),\n",
    "    tf.keras.layers.Dense(128,activation='relu'),\n",
    "    tf.keras.layers.Dropout(0.30),\n",
    "    \n",
    "    tf.keras.layers.Dense(47,activation='softmax')\n",
    "])\n",
    "\n",
    "# model = tf.keras.Sequential([\n",
    "#     tf.keras.Input((784,)),\n",
    "#     tf.keras.layers.Dense(1024, activation='relu'),\n",
    "#     #tf.keras.layers.Dropout(0.2),\n",
    "#     tf.keras.layers.Dense(1024, activation='relu'),\n",
    "#     #tf.keras.layers.Dropout(0.2),\n",
    "#     tf.keras.layers.Dense(512, activation='relu'),\n",
    "#     #tf.keras.layers.Dropout(0.2),\n",
    "#     tf.keras.layers.Dense(256, activation='relu'),\n",
    "#     #tf.keras.layers.Dropout(0.2),\n",
    "#     tf.keras.layers.Dense(47, activation='softmax')\n",
    "# ])"
   ]
  },
  {
   "cell_type": "code",
   "execution_count": 91,
   "metadata": {
    "execution": {
     "iopub.execute_input": "2025-01-12T03:03:36.500422Z",
     "iopub.status.busy": "2025-01-12T03:03:36.500138Z",
     "iopub.status.idle": "2025-01-12T03:03:36.507498Z",
     "shell.execute_reply": "2025-01-12T03:03:36.506690Z",
     "shell.execute_reply.started": "2025-01-12T03:03:36.500400Z"
    },
    "trusted": true
   },
   "outputs": [],
   "source": [
    "model.compile(optimizer='adam',loss='categorical_crossentropy',metrics=['accuracy'])"
   ]
  },
  {
   "cell_type": "code",
   "execution_count": 92,
   "metadata": {
    "execution": {
     "iopub.execute_input": "2025-01-12T03:03:37.405288Z",
     "iopub.status.busy": "2025-01-12T03:03:37.404884Z",
     "iopub.status.idle": "2025-01-12T03:04:10.912676Z",
     "shell.execute_reply": "2025-01-12T03:04:10.911747Z",
     "shell.execute_reply.started": "2025-01-12T03:03:37.405255Z"
    },
    "trusted": true
   },
   "outputs": [
    {
     "name": "stdout",
     "output_type": "stream",
     "text": [
      "Epoch 1/20\n",
      "\u001b[1m199/199\u001b[0m \u001b[32m━━━━━━━━━━━━━━━━━━━━\u001b[0m\u001b[37m\u001b[0m \u001b[1m10s\u001b[0m 26ms/step - accuracy: 0.3464 - loss: 2.4102 - val_accuracy: 0.8063 - val_loss: 0.5866\n",
      "Epoch 2/20\n",
      "\u001b[1m199/199\u001b[0m \u001b[32m━━━━━━━━━━━━━━━━━━━━\u001b[0m\u001b[37m\u001b[0m \u001b[1m1s\u001b[0m 6ms/step - accuracy: 0.7562 - loss: 0.7483 - val_accuracy: 0.8474 - val_loss: 0.4395\n",
      "Epoch 3/20\n",
      "\u001b[1m199/199\u001b[0m \u001b[32m━━━━━━━━━━━━━━━━━━━━\u001b[0m\u001b[37m\u001b[0m \u001b[1m1s\u001b[0m 6ms/step - accuracy: 0.8068 - loss: 0.5771 - val_accuracy: 0.8643 - val_loss: 0.3954\n",
      "Epoch 4/20\n",
      "\u001b[1m199/199\u001b[0m \u001b[32m━━━━━━━━━━━━━━━━━━━━\u001b[0m\u001b[37m\u001b[0m \u001b[1m1s\u001b[0m 6ms/step - accuracy: 0.8294 - loss: 0.5037 - val_accuracy: 0.8695 - val_loss: 0.3734\n",
      "Epoch 5/20\n",
      "\u001b[1m199/199\u001b[0m \u001b[32m━━━━━━━━━━━━━━━━━━━━\u001b[0m\u001b[37m\u001b[0m \u001b[1m1s\u001b[0m 6ms/step - accuracy: 0.8405 - loss: 0.4643 - val_accuracy: 0.8721 - val_loss: 0.3567\n",
      "Epoch 6/20\n",
      "\u001b[1m199/199\u001b[0m \u001b[32m━━━━━━━━━━━━━━━━━━━━\u001b[0m\u001b[37m\u001b[0m \u001b[1m1s\u001b[0m 6ms/step - accuracy: 0.8518 - loss: 0.4325 - val_accuracy: 0.8729 - val_loss: 0.3543\n",
      "Epoch 7/20\n",
      "\u001b[1m199/199\u001b[0m \u001b[32m━━━━━━━━━━━━━━━━━━━━\u001b[0m\u001b[37m\u001b[0m \u001b[1m1s\u001b[0m 6ms/step - accuracy: 0.8554 - loss: 0.4107 - val_accuracy: 0.8773 - val_loss: 0.3431\n",
      "Epoch 8/20\n",
      "\u001b[1m199/199\u001b[0m \u001b[32m━━━━━━━━━━━━━━━━━━━━\u001b[0m\u001b[37m\u001b[0m \u001b[1m1s\u001b[0m 6ms/step - accuracy: 0.8618 - loss: 0.3921 - val_accuracy: 0.8794 - val_loss: 0.3404\n",
      "Epoch 9/20\n",
      "\u001b[1m199/199\u001b[0m \u001b[32m━━━━━━━━━━━━━━━━━━━━\u001b[0m\u001b[37m\u001b[0m \u001b[1m1s\u001b[0m 6ms/step - accuracy: 0.8649 - loss: 0.3789 - val_accuracy: 0.8795 - val_loss: 0.3373\n",
      "Epoch 10/20\n",
      "\u001b[1m199/199\u001b[0m \u001b[32m━━━━━━━━━━━━━━━━━━━━\u001b[0m\u001b[37m\u001b[0m \u001b[1m1s\u001b[0m 6ms/step - accuracy: 0.8685 - loss: 0.3675 - val_accuracy: 0.8829 - val_loss: 0.3284\n",
      "Epoch 11/20\n",
      "\u001b[1m199/199\u001b[0m \u001b[32m━━━━━━━━━━━━━━━━━━━━\u001b[0m\u001b[37m\u001b[0m \u001b[1m1s\u001b[0m 6ms/step - accuracy: 0.8694 - loss: 0.3594 - val_accuracy: 0.8805 - val_loss: 0.3338\n",
      "Epoch 12/20\n",
      "\u001b[1m199/199\u001b[0m \u001b[32m━━━━━━━━━━━━━━━━━━━━\u001b[0m\u001b[37m\u001b[0m \u001b[1m1s\u001b[0m 6ms/step - accuracy: 0.8746 - loss: 0.3451 - val_accuracy: 0.8832 - val_loss: 0.3260\n",
      "Epoch 13/20\n",
      "\u001b[1m199/199\u001b[0m \u001b[32m━━━━━━━━━━━━━━━━━━━━\u001b[0m\u001b[37m\u001b[0m \u001b[1m1s\u001b[0m 6ms/step - accuracy: 0.8771 - loss: 0.3366 - val_accuracy: 0.8795 - val_loss: 0.3396\n",
      "Epoch 14/20\n",
      "\u001b[1m199/199\u001b[0m \u001b[32m━━━━━━━━━━━━━━━━━━━━\u001b[0m\u001b[37m\u001b[0m \u001b[1m1s\u001b[0m 6ms/step - accuracy: 0.8778 - loss: 0.3356 - val_accuracy: 0.8844 - val_loss: 0.3339\n",
      "Epoch 15/20\n",
      "\u001b[1m199/199\u001b[0m \u001b[32m━━━━━━━━━━━━━━━━━━━━\u001b[0m\u001b[37m\u001b[0m \u001b[1m1s\u001b[0m 6ms/step - accuracy: 0.8808 - loss: 0.3229 - val_accuracy: 0.8829 - val_loss: 0.3392\n",
      "Epoch 16/20\n",
      "\u001b[1m199/199\u001b[0m \u001b[32m━━━━━━━━━━━━━━━━━━━━\u001b[0m\u001b[37m\u001b[0m \u001b[1m1s\u001b[0m 6ms/step - accuracy: 0.8799 - loss: 0.3241 - val_accuracy: 0.8849 - val_loss: 0.3259\n",
      "Epoch 17/20\n",
      "\u001b[1m199/199\u001b[0m \u001b[32m━━━━━━━━━━━━━━━━━━━━\u001b[0m\u001b[37m\u001b[0m \u001b[1m1s\u001b[0m 6ms/step - accuracy: 0.8854 - loss: 0.3081 - val_accuracy: 0.8816 - val_loss: 0.3348\n",
      "Epoch 18/20\n",
      "\u001b[1m199/199\u001b[0m \u001b[32m━━━━━━━━━━━━━━━━━━━━\u001b[0m\u001b[37m\u001b[0m \u001b[1m1s\u001b[0m 6ms/step - accuracy: 0.8842 - loss: 0.3091 - val_accuracy: 0.8856 - val_loss: 0.3318\n",
      "Epoch 19/20\n",
      "\u001b[1m199/199\u001b[0m \u001b[32m━━━━━━━━━━━━━━━━━━━━\u001b[0m\u001b[37m\u001b[0m \u001b[1m1s\u001b[0m 6ms/step - accuracy: 0.8852 - loss: 0.3040 - val_accuracy: 0.8868 - val_loss: 0.3266\n",
      "Epoch 20/20\n",
      "\u001b[1m199/199\u001b[0m \u001b[32m━━━━━━━━━━━━━━━━━━━━\u001b[0m\u001b[37m\u001b[0m \u001b[1m1s\u001b[0m 6ms/step - accuracy: 0.8895 - loss: 0.2965 - val_accuracy: 0.8871 - val_loss: 0.3298\n"
     ]
    }
   ],
   "source": [
    "history = model.fit(x_train, y_train, epochs=20, batch_size=512, verbose=1, validation_data=(x_val, y_val))"
   ]
  },
  {
   "cell_type": "code",
   "execution_count": 93,
   "metadata": {
    "execution": {
     "iopub.execute_input": "2025-01-12T03:04:13.962124Z",
     "iopub.status.busy": "2025-01-12T03:04:13.961803Z",
     "iopub.status.idle": "2025-01-12T03:04:14.043585Z",
     "shell.execute_reply": "2025-01-12T03:04:14.042755Z",
     "shell.execute_reply.started": "2025-01-12T03:04:13.962086Z"
    },
    "trusted": true
   },
   "outputs": [],
   "source": [
    "model.save(\"trained_model.h5\")"
   ]
  },
  {
   "cell_type": "code",
   "execution_count": 94,
   "metadata": {
    "execution": {
     "iopub.execute_input": "2025-01-12T03:04:14.705498Z",
     "iopub.status.busy": "2025-01-12T03:04:14.705150Z",
     "iopub.status.idle": "2025-01-12T03:04:16.462629Z",
     "shell.execute_reply": "2025-01-12T03:04:16.461691Z",
     "shell.execute_reply.started": "2025-01-12T03:04:14.705468Z"
    },
    "trusted": true
   },
   "outputs": [
    {
     "name": "stdout",
     "output_type": "stream",
     "text": [
      "\u001b[1m588/588\u001b[0m \u001b[32m━━━━━━━━━━━━━━━━━━━━\u001b[0m\u001b[37m\u001b[0m \u001b[1m2s\u001b[0m 2ms/step - accuracy: 0.8828 - loss: 0.3490\n"
     ]
    },
    {
     "data": {
      "text/plain": [
       "[0.343639612197876, 0.8824405670166016]"
      ]
     },
     "execution_count": 94,
     "metadata": {},
     "output_type": "execute_result"
    }
   ],
   "source": [
    "model.evaluate(x_test, y_test)"
   ]
  }
 ],
 "metadata": {
  "kaggle": {
   "accelerator": "gpu",
   "dataSources": [
    {
     "datasetId": 7160,
     "sourceId": 10705,
     "sourceType": "datasetVersion"
    }
   ],
   "dockerImageVersionId": 30822,
   "isGpuEnabled": true,
   "isInternetEnabled": true,
   "language": "python",
   "sourceType": "notebook"
  },
  "kernelspec": {
   "display_name": "ScoreSheet",
   "language": "python",
   "name": "python3"
  },
  "language_info": {
   "codemirror_mode": {
    "name": "ipython",
    "version": 3
   },
   "file_extension": ".py",
   "mimetype": "text/x-python",
   "name": "python",
   "nbconvert_exporter": "python",
   "pygments_lexer": "ipython3",
   "version": "3.11.9"
  }
 },
 "nbformat": 4,
 "nbformat_minor": 4
}
