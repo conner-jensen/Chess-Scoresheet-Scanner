{
 "cells": [
  {
   "cell_type": "code",
   "execution_count": 1,
   "metadata": {},
   "outputs": [],
   "source": [
    "import numpy as np\n",
    "import tensorflow as tf"
   ]
  },
  {
   "cell_type": "code",
   "execution_count": 4,
   "metadata": {},
   "outputs": [],
   "source": [
    "model = tf.keras.Sequential([\n",
    "    tf.keras.Input((28, 28, 1)),\n",
    "    tf.keras.layers.Conv2D(32,3),\n",
    "    tf.keras.layers.MaxPooling2D(2,2),\n",
    "    tf.keras.layers.Flatten(),\n",
    "    tf.keras.layers.Dense(512,activation='relu'),\n",
    "    tf.keras.layers.Dense(128,activation='relu'),\n",
    "    tf.keras.layers.Dense(47,activation='softmax')\n",
    "])\n",
    "\n",
    "\n",
    "model.load_weights('../Scoresheet/models/Best_points.h5')"
   ]
  },
  {
   "cell_type": "code",
   "execution_count": 6,
   "metadata": {},
   "outputs": [
    {
     "name": "stdout",
     "output_type": "stream",
     "text": [
      "INFO:tensorflow:Assets written to: /var/folders/k9/ddxsx6752wd6h1vfbjv1ggxw0000gn/T/tmpjjdjj0w7/assets\n"
     ]
    },
    {
     "name": "stderr",
     "output_type": "stream",
     "text": [
      "INFO:tensorflow:Assets written to: /var/folders/k9/ddxsx6752wd6h1vfbjv1ggxw0000gn/T/tmpjjdjj0w7/assets\n"
     ]
    },
    {
     "name": "stdout",
     "output_type": "stream",
     "text": [
      "Saved artifact at '/var/folders/k9/ddxsx6752wd6h1vfbjv1ggxw0000gn/T/tmpjjdjj0w7'. The following endpoints are available:\n",
      "\n",
      "* Endpoint 'serve'\n",
      "  args_0 (POSITIONAL_ONLY): TensorSpec(shape=(None, 28, 28, 1), dtype=tf.float32, name='keras_tensor_14')\n",
      "Output Type:\n",
      "  TensorSpec(shape=(None, 47), dtype=tf.float32, name=None)\n",
      "Captures:\n",
      "  5889089680: TensorSpec(shape=(), dtype=tf.resource, name=None)\n",
      "  5889092560: TensorSpec(shape=(), dtype=tf.resource, name=None)\n",
      "  5889092368: TensorSpec(shape=(), dtype=tf.resource, name=None)\n",
      "  5889093328: TensorSpec(shape=(), dtype=tf.resource, name=None)\n",
      "  5889093136: TensorSpec(shape=(), dtype=tf.resource, name=None)\n",
      "  5889094096: TensorSpec(shape=(), dtype=tf.resource, name=None)\n",
      "  5889093904: TensorSpec(shape=(), dtype=tf.resource, name=None)\n",
      "  5889094864: TensorSpec(shape=(), dtype=tf.resource, name=None)\n"
     ]
    },
    {
     "name": "stderr",
     "output_type": "stream",
     "text": [
      "WARNING: All log messages before absl::InitializeLog() is called are written to STDERR\n",
      "W0000 00:00:1729800997.336846 32446844 tf_tfl_flatbuffer_helpers.cc:392] Ignored output_format.\n",
      "W0000 00:00:1729800997.336986 32446844 tf_tfl_flatbuffer_helpers.cc:395] Ignored drop_control_dependency.\n",
      "2024-10-24 15:16:37.337334: I tensorflow/cc/saved_model/reader.cc:83] Reading SavedModel from: /var/folders/k9/ddxsx6752wd6h1vfbjv1ggxw0000gn/T/tmpjjdjj0w7\n",
      "2024-10-24 15:16:37.337691: I tensorflow/cc/saved_model/reader.cc:52] Reading meta graph with tags { serve }\n",
      "2024-10-24 15:16:37.337698: I tensorflow/cc/saved_model/reader.cc:147] Reading SavedModel debug info (if present) from: /var/folders/k9/ddxsx6752wd6h1vfbjv1ggxw0000gn/T/tmpjjdjj0w7\n",
      "2024-10-24 15:16:37.340925: I tensorflow/compiler/mlir/mlir_graph_optimization_pass.cc:388] MLIR V1 optimization pass is not enabled\n",
      "2024-10-24 15:16:37.341477: I tensorflow/cc/saved_model/loader.cc:236] Restoring SavedModel bundle.\n",
      "2024-10-24 15:16:37.377145: I tensorflow/cc/saved_model/loader.cc:220] Running initialization op on SavedModel bundle at path: /var/folders/k9/ddxsx6752wd6h1vfbjv1ggxw0000gn/T/tmpjjdjj0w7\n",
      "2024-10-24 15:16:37.384373: I tensorflow/cc/saved_model/loader.cc:462] SavedModel load for tags { serve }; Status: success: OK. Took 47047 microseconds.\n",
      "2024-10-24 15:16:37.393081: I tensorflow/compiler/mlir/tensorflow/utils/dump_mlir_util.cc:268] disabling MLIR crash reproducer, set env var `MLIR_CRASH_REPRODUCER_DIRECTORY` to enable.\n"
     ]
    }
   ],
   "source": [
    "converter = tf.lite.TFLiteConverter.from_keras_model(model)\n",
    "tflite_model = converter.convert()\n",
    "\n",
    "# Save the model.\n",
    "with open('model.tflite', 'wb') as f:\n",
    "  f.write(tflite_model)"
   ]
  },
  {
   "cell_type": "code",
   "execution_count": null,
   "metadata": {},
   "outputs": [],
   "source": []
  }
 ],
 "metadata": {
  "kernelspec": {
   "display_name": "ScoreSheet",
   "language": "python",
   "name": "python3"
  },
  "language_info": {
   "codemirror_mode": {
    "name": "ipython",
    "version": 3
   },
   "file_extension": ".py",
   "mimetype": "text/x-python",
   "name": "python",
   "nbconvert_exporter": "python",
   "pygments_lexer": "ipython3",
   "version": "3.11.9"
  }
 },
 "nbformat": 4,
 "nbformat_minor": 2
}
